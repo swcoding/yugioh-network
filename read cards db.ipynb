{
 "cells": [
  {
   "cell_type": "code",
   "execution_count": 9,
   "metadata": {},
   "outputs": [],
   "source": [
    "import pandas as pd\n",
    "import numpy as np\n",
    "def fill_prefix_zero(string):\n",
    "    zero_num = 8 - len(string)\n",
    "    result = '0' * zero_num + string\n",
    "    return result"
   ]
  },
  {
   "cell_type": "markdown",
   "metadata": {},
   "source": [
    "## Preprocess"
   ]
  },
  {
   "cell_type": "code",
   "execution_count": null,
   "metadata": {},
   "outputs": [],
   "source": [
    "datas = pd.read_csv('datas.csv', converters={'id':str})\n",
    "texts = pd.read_csv('texts.csv', converters={'id':str})"
   ]
  },
  {
   "cell_type": "code",
   "execution_count": null,
   "metadata": {},
   "outputs": [],
   "source": [
    "datas.shape"
   ]
  },
  {
   "cell_type": "code",
   "execution_count": null,
   "metadata": {},
   "outputs": [],
   "source": [
    "texts.shape"
   ]
  },
  {
   "cell_type": "code",
   "execution_count": null,
   "metadata": {},
   "outputs": [],
   "source": [
    "datas.head()"
   ]
  },
  {
   "cell_type": "code",
   "execution_count": null,
   "metadata": {},
   "outputs": [],
   "source": [
    "for col, content in datas.items():\n",
    "    if col in ['id', 'content', 'category']:\n",
    "        pass\n",
    "    else:\n",
    "        print(f'--- {col} ---')\n",
    "        print(content.value_counts())"
   ]
  },
  {
   "cell_type": "code",
   "execution_count": null,
   "metadata": {},
   "outputs": [],
   "source": [
    "from opencc import OpenCC\n",
    "translator = OpenCC('s2t')\n",
    "all_data = datas.merge(texts.drop(['str10','str11','str12','str13','str14','str15','str16'], axis=1), on='id', how='left')\n",
    "all_data['desc_t'] = all_data['desc'].apply(lambda x: translator.convert(x))\n",
    "all_data['str1'] = all_data['str1'].apply(lambda x: x if x is np.nan else translator.convert(x))\n",
    "all_data['str2'] = all_data['str2'].apply(lambda x: x if x is np.nan else translator.convert(x))\n",
    "all_data['name_t'] = all_data['name'].apply(lambda x: x if x is np.nan else translator.convert(x))"
   ]
  },
  {
   "cell_type": "code",
   "execution_count": null,
   "metadata": {},
   "outputs": [],
   "source": [
    "all_data.to_csv('all_data.csv',index=None)"
   ]
  },
  {
   "cell_type": "markdown",
   "metadata": {},
   "source": [
    "## Load preprocessed data"
   ]
  },
  {
   "cell_type": "code",
   "execution_count": 10,
   "metadata": {},
   "outputs": [],
   "source": [
    "all_data = pd.read_csv('all_data.csv', converters={'id':str})\n",
    "all_data['id'] = all_data['id'].apply(fill_prefix_zero)"
   ]
  },
  {
   "cell_type": "code",
   "execution_count": null,
   "metadata": {},
   "outputs": [],
   "source": [
    "all_data['card_type'] = all_data['type'].apply(get_card_type)"
   ]
  },
  {
   "cell_type": "code",
   "execution_count": null,
   "metadata": {},
   "outputs": [],
   "source": [
    "col = 'ot'\n",
    "all_data[all_data[col] == 1].head()[['id',col, 'name','name_t', 'desc_t']]"
   ]
  },
  {
   "cell_type": "code",
   "execution_count": null,
   "metadata": {},
   "outputs": [],
   "source": [
    "action = ['特殊召喚', '檢索', '卡組檢索', '加入手卡']"
   ]
  },
  {
   "cell_type": "code",
   "execution_count": null,
   "metadata": {},
   "outputs": [],
   "source": [
    "all_data['str1'].value_counts()"
   ]
  },
  {
   "cell_type": "code",
   "execution_count": null,
   "metadata": {},
   "outputs": [],
   "source": [
    "all_data[all_data['str1'].isin(action)]"
   ]
  },
  {
   "cell_type": "code",
   "execution_count": null,
   "metadata": {},
   "outputs": [],
   "source": [
    "all_data[all_data['desc_t'].str.contains('從卡組特殊召喚')]"
   ]
  },
  {
   "cell_type": "code",
   "execution_count": null,
   "metadata": {},
   "outputs": [],
   "source": [
    "all_data[all_data['desc_t'].str.contains('送去墓地')]"
   ]
  },
  {
   "cell_type": "markdown",
   "metadata": {},
   "source": [
    "## 「關係」定義\n",
    "所謂的有關係"
   ]
  },
  {
   "cell_type": "markdown",
   "metadata": {},
   "source": [
    "## 區域\n",
    "* 卡組\n",
    "* 墓地\n",
    "* 除外\n",
    "* 場上\n",
    "* 手卡\n",
    "* 額外卡組"
   ]
  },
  {
   "cell_type": "code",
   "execution_count": 24,
   "metadata": {},
   "outputs": [
    {
     "data": {
      "text/plain": [
       "[2,\n",
       " 4,\n",
       " 17,\n",
       " 33,\n",
       " 65,\n",
       " 97,\n",
       " 129,\n",
       " 130,\n",
       " 161,\n",
       " 545,\n",
       " 673,\n",
       " 1057,\n",
       " 2081,\n",
       " 4113,\n",
       " 4129,\n",
       " 4161,\n",
       " 4193,\n",
       " 4257,\n",
       " 5153,\n",
       " 8193,\n",
       " 8225,\n",
       " 12321,\n",
       " 16401,\n",
       " 20497,\n",
       " 65538,\n",
       " 131074,\n",
       " 131076,\n",
       " 262146,\n",
       " 524290,\n",
       " 1048580,\n",
       " 2097185,\n",
       " 2101281,\n",
       " 4194337,\n",
       " 8388609,\n",
       " 8388641,\n",
       " 16777233,\n",
       " 16777249,\n",
       " 16777313,\n",
       " 16777761,\n",
       " 16781329,\n",
       " 16781345,\n",
       " 16785441,\n",
       " 18874401,\n",
       " 25165857,\n",
       " 33554465,\n",
       " 33554977,\n",
       " 33558561,\n",
       " 37748769,\n",
       " 50331681,\n",
       " 67108865,\n",
       " 67108897]"
      ]
     },
     "execution_count": 24,
     "metadata": {},
     "output_type": "execute_result"
    }
   ],
   "source": [
    "sorted(all_data['type'].unique())"
   ]
  },
  {
   "cell_type": "code",
   "execution_count": null,
   "metadata": {},
   "outputs": [],
   "source": [
    "{\n",
    "    2:'通常魔法',\n",
    "    4:'通常陷阱',\n",
    "    17:'通常怪獸',\n",
    "    33:'效果怪獸',\n",
    "    65:'融合怪獸|通常',\n",
    "    97:'融合怪獸|效果',\n",
    "    129:'儀式怪獸|通常',\n",
    "    130:'儀式魔法',\n",
    "    161:'儀式怪獸|靈魂',\n",
    "    545:'靈魂怪獸',\n",
    "    673:'儀式怪獸,\n",
    "    1057:'聯合怪獸',\n",
    "    2081:'二重怪獸',\n",
    "    4113:'協調怪獸|通常',\n",
    "    4129:'協調怪獸|效果',\n",
    "    4161:'融合怪獸|協調',\n",
    "    4193:'融合怪獸|協調|效果',\n",
    "    4257:'儀式怪獸|協調|效果',\n",
    "    5153:'聯合怪獸|協調|效果',\n",
    "    8193:'同步怪獸|通常',\n",
    "    8225:'同步怪獸|效果',\n",
    "    12321:'同步怪獸|協調',\n",
    "    16401:'衍生物',\n",
    "    20497:'衍生物',\n",
    "    65538:'速攻魔法',\n",
    "    131074:'永續魔法',\n",
    "    131076:'永續陷阱',\n",
    "    262146:'裝備魔法',\n",
    "    524290:'場地魔法',\n",
    "    1048580:'反擊陷阱',\n",
    "    2097185:'反轉怪獸',\n",
    "    2101281:'反轉怪獸|協調',\n",
    "    4194337:'卡通怪獸',\n",
    "    8388609:'超量怪獸|通常',\n",
    "    8388641:'超量怪獸|效果',\n",
    "    16777233:'靈擺怪獸|通常',\n",
    "    16777249:'靈擺怪獸|效果',\n",
    "    16777313:'融合怪獸|靈擺',\n",
    "    16777761:'靈擺怪獸|二重',\n",
    "    16781329:'靈擺怪獸|通常|協調',\n",
    "    16781345:'靈擺怪獸|效果|協調',\n",
    "    16785441:'同步怪獸|靈擺',\n",
    "    18874401:'靈擺怪獸|效果|反轉',\n",
    "    25165857:'超量怪獸|靈擺',\n",
    "    33554465:'效果怪獸|特殊召喚',\n",
    "    33554977:'效果怪獸|靈魂|特殊召喚,\n",
    "    33558561:'效果怪獸|協調|特殊召喚',\n",
    "    37748769:'卡通怪獸|特殊召喚',\n",
    "    50331681:'靈擺怪獸|特殊召喚',\n",
    "    67108865:'連結怪獸|通常',\n",
    "    67108897:'xu0'\n",
    "}"
   ]
  },
  {
   "cell_type": "code",
   "execution_count": null,
   "metadata": {},
   "outputs": [],
   "source": [
    "temp = all_data.sort_values('type').groupby('type')[['id','type']].head(5)\n",
    "temp['card_type'] = temp['id'].apply(get_card_type)"
   ]
  },
  {
   "cell_type": "code",
   "execution_count": 34,
   "metadata": {},
   "outputs": [
    {
     "data": {
      "text/html": [
       "<div>\n",
       "<style scoped>\n",
       "    .dataframe tbody tr th:only-of-type {\n",
       "        vertical-align: middle;\n",
       "    }\n",
       "\n",
       "    .dataframe tbody tr th {\n",
       "        vertical-align: top;\n",
       "    }\n",
       "\n",
       "    .dataframe thead th {\n",
       "        text-align: right;\n",
       "    }\n",
       "</style>\n",
       "<table border=\"1\" class=\"dataframe\">\n",
       "  <thead>\n",
       "    <tr style=\"text-align: right;\">\n",
       "      <th></th>\n",
       "      <th>id</th>\n",
       "      <th>type</th>\n",
       "      <th>card_type</th>\n",
       "    </tr>\n",
       "  </thead>\n",
       "  <tbody>\n",
       "    <tr>\n",
       "      <th>3799</th>\n",
       "      <td>31764700</td>\n",
       "      <td>33554465</td>\n",
       "      <td>惡魔族　,效果怪獸　,種族</td>\n",
       "    </tr>\n",
       "    <tr>\n",
       "      <th>1610</th>\n",
       "      <td>13522325</td>\n",
       "      <td>33554465</td>\n",
       "      <td>效果怪獸　,炎族　,種族</td>\n",
       "    </tr>\n",
       "    <tr>\n",
       "      <th>1600</th>\n",
       "      <td>13474291</td>\n",
       "      <td>33554465</td>\n",
       "      <td>天使族　,效果怪獸　,種族</td>\n",
       "    </tr>\n",
       "    <tr>\n",
       "      <th>6926</th>\n",
       "      <td>57722593</td>\n",
       "      <td>33554977</td>\n",
       "      <td>天使族　,特殊召喚　,種族</td>\n",
       "    </tr>\n",
       "    <tr>\n",
       "      <th>9830</th>\n",
       "      <td>82841979</td>\n",
       "      <td>33554977</td>\n",
       "      <td>戰士族　,種族,靈魂怪獸</td>\n",
       "    </tr>\n",
       "    <tr>\n",
       "      <th>1859</th>\n",
       "      <td>15521027</td>\n",
       "      <td>33558561</td>\n",
       "      <td>協調怪獸　,機械族　,種族</td>\n",
       "    </tr>\n",
       "    <tr>\n",
       "      <th>10613</th>\n",
       "      <td>89818984</td>\n",
       "      <td>33558561</td>\n",
       "      <td>戰士族　,特殊召喚　,種族</td>\n",
       "    </tr>\n",
       "    <tr>\n",
       "      <th>7710</th>\n",
       "      <td>64550682</td>\n",
       "      <td>33558561</td>\n",
       "      <td>協調怪獸　,獸族　,種族</td>\n",
       "    </tr>\n",
       "    <tr>\n",
       "      <th>6873</th>\n",
       "      <td>57261568</td>\n",
       "      <td>33558561</td>\n",
       "      <td>戰士族　,特殊召喚　,種族</td>\n",
       "    </tr>\n",
       "    <tr>\n",
       "      <th>4657</th>\n",
       "      <td>38814750</td>\n",
       "      <td>33558561</td>\n",
       "      <td>特殊召喚　,種族,超能族</td>\n",
       "    </tr>\n",
       "    <tr>\n",
       "      <th>6372</th>\n",
       "      <td>53183600</td>\n",
       "      <td>37748769</td>\n",
       "      <td>卡通怪獸　,種族,龍族</td>\n",
       "    </tr>\n",
       "    <tr>\n",
       "      <th>3442</th>\n",
       "      <td>28711704</td>\n",
       "      <td>37748769</td>\n",
       "      <td>卡通怪獸　,戰士族　,種族</td>\n",
       "    </tr>\n",
       "    <tr>\n",
       "      <th>10842</th>\n",
       "      <td>91842653</td>\n",
       "      <td>37748769</td>\n",
       "      <td>卡通怪獸　,惡魔族　,種族</td>\n",
       "    </tr>\n",
       "    <tr>\n",
       "      <th>10745</th>\n",
       "      <td>90960358</td>\n",
       "      <td>37748769</td>\n",
       "      <td>卡通怪獸　,種族,魔法使族</td>\n",
       "    </tr>\n",
       "    <tr>\n",
       "      <th>4604</th>\n",
       "      <td>38369349</td>\n",
       "      <td>37748769</td>\n",
       "      <td>卡通怪獸　,種族,龍族</td>\n",
       "    </tr>\n",
       "    <tr>\n",
       "      <th>557</th>\n",
       "      <td>04538826</td>\n",
       "      <td>50331681</td>\n",
       "      <td>擺動怪獸　,種族,龍族</td>\n",
       "    </tr>\n",
       "    <tr>\n",
       "      <th>8375</th>\n",
       "      <td>70335319</td>\n",
       "      <td>50331681</td>\n",
       "      <td>擺動怪獸　,種族,龍族</td>\n",
       "    </tr>\n",
       "    <tr>\n",
       "      <th>6265</th>\n",
       "      <td>52296675</td>\n",
       "      <td>50331681</td>\n",
       "      <td>特殊召喚　,種族,魔法使族</td>\n",
       "    </tr>\n",
       "    <tr>\n",
       "      <th>3522</th>\n",
       "      <td>29432356</td>\n",
       "      <td>50331681</td>\n",
       "      <td>岩石族　,擺動怪獸　,種族</td>\n",
       "    </tr>\n",
       "    <tr>\n",
       "      <th>1961</th>\n",
       "      <td>16306932</td>\n",
       "      <td>50331681</td>\n",
       "      <td>種族</td>\n",
       "    </tr>\n",
       "    <tr>\n",
       "      <th>9227</th>\n",
       "      <td>77637979</td>\n",
       "      <td>67108865</td>\n",
       "      <td>種族,連結怪獸　,電子界族</td>\n",
       "    </tr>\n",
       "    <tr>\n",
       "      <th>4960</th>\n",
       "      <td>41248270</td>\n",
       "      <td>67108865</td>\n",
       "      <td>種族,連結怪獸　,電子界族</td>\n",
       "    </tr>\n",
       "    <tr>\n",
       "      <th>662</th>\n",
       "      <td>05402805</td>\n",
       "      <td>67108865</td>\n",
       "      <td>幻龍族　,種族,連結怪獸</td>\n",
       "    </tr>\n",
       "    <tr>\n",
       "      <th>8050</th>\n",
       "      <td>67598234</td>\n",
       "      <td>67108865</td>\n",
       "      <td>機械族　,種族,連結怪獸</td>\n",
       "    </tr>\n",
       "    <tr>\n",
       "      <th>3899</th>\n",
       "      <td>32519092</td>\n",
       "      <td>67108865</td>\n",
       "      <td>幻龍族　,種族,連結怪獸</td>\n",
       "    </tr>\n",
       "    <tr>\n",
       "      <th>9158</th>\n",
       "      <td>77058170</td>\n",
       "      <td>67108897</td>\n",
       "      <td>種族,連結怪獸　,電子界族</td>\n",
       "    </tr>\n",
       "    <tr>\n",
       "      <th>9115</th>\n",
       "      <td>76685519</td>\n",
       "      <td>67108897</td>\n",
       "      <td>種族,連結怪獸　,魔法使族</td>\n",
       "    </tr>\n",
       "    <tr>\n",
       "      <th>8583</th>\n",
       "      <td>72218246</td>\n",
       "      <td>67108897</td>\n",
       "      <td>種族,連結怪獸　,龍族</td>\n",
       "    </tr>\n",
       "    <tr>\n",
       "      <th>4476</th>\n",
       "      <td>37354507</td>\n",
       "      <td>67108897</td>\n",
       "      <td>戰士族　,種族,連結怪獸</td>\n",
       "    </tr>\n",
       "    <tr>\n",
       "      <th>8584</th>\n",
       "      <td>72228247</td>\n",
       "      <td>67108897</td>\n",
       "      <td>種族,連結怪獸　,魔法使族</td>\n",
       "    </tr>\n",
       "  </tbody>\n",
       "</table>\n",
       "</div>"
      ],
      "text/plain": [
       "             id      type       card_type\n",
       "3799   31764700  33554465   惡魔族　,效果怪獸　,種族\n",
       "1610   13522325  33554465    效果怪獸　,炎族　,種族\n",
       "1600   13474291  33554465   天使族　,效果怪獸　,種族\n",
       "6926   57722593  33554977   天使族　,特殊召喚　,種族\n",
       "9830   82841979  33554977   戰士族　,種族,靈魂怪獸　\n",
       "1859   15521027  33558561   協調怪獸　,機械族　,種族\n",
       "10613  89818984  33558561   戰士族　,特殊召喚　,種族\n",
       "7710   64550682  33558561    協調怪獸　,獸族　,種族\n",
       "6873   57261568  33558561   戰士族　,特殊召喚　,種族\n",
       "4657   38814750  33558561   特殊召喚　,種族,超能族　\n",
       "6372   53183600  37748769    卡通怪獸　,種族,龍族　\n",
       "3442   28711704  37748769   卡通怪獸　,戰士族　,種族\n",
       "10842  91842653  37748769   卡通怪獸　,惡魔族　,種族\n",
       "10745  90960358  37748769  卡通怪獸　,種族,魔法使族　\n",
       "4604   38369349  37748769    卡通怪獸　,種族,龍族　\n",
       "557    04538826  50331681    擺動怪獸　,種族,龍族　\n",
       "8375   70335319  50331681    擺動怪獸　,種族,龍族　\n",
       "6265   52296675  50331681  特殊召喚　,種族,魔法使族　\n",
       "3522   29432356  50331681   岩石族　,擺動怪獸　,種族\n",
       "1961   16306932  50331681              種族\n",
       "9227   77637979  67108865  種族,連結怪獸　,電子界族　\n",
       "4960   41248270  67108865  種族,連結怪獸　,電子界族　\n",
       "662    05402805  67108865   幻龍族　,種族,連結怪獸　\n",
       "8050   67598234  67108865   機械族　,種族,連結怪獸　\n",
       "3899   32519092  67108865   幻龍族　,種族,連結怪獸　\n",
       "9158   77058170  67108897  種族,連結怪獸　,電子界族　\n",
       "9115   76685519  67108897  種族,連結怪獸　,魔法使族　\n",
       "8583   72218246  67108897    種族,連結怪獸　,龍族　\n",
       "4476   37354507  67108897   戰士族　,種族,連結怪獸　\n",
       "8584   72228247  67108897  種族,連結怪獸　,魔法使族　"
      ]
     },
     "execution_count": 34,
     "metadata": {},
     "output_type": "execute_result"
    }
   ],
   "source": [
    "temp.tail(30)"
   ]
  },
  {
   "cell_type": "code",
   "execution_count": 5,
   "metadata": {},
   "outputs": [],
   "source": [
    "import requests\n",
    "from bs4 import BeautifulSoup"
   ]
  },
  {
   "cell_type": "code",
   "execution_count": 2,
   "metadata": {},
   "outputs": [],
   "source": [
    "def get_card_type(card_id):\n",
    "    res = requests.post('http://220.134.173.17/gameking/card/ocg_list.asp', data = {'form_data13': card_id})\n",
    "    res.encoding = 'big5'\n",
    "    soup = BeautifulSoup(res.text, 'html.parser')\n",
    "    tag_list = soup.find_all('td', width='10%', align='center')\n",
    "    card_type = ','.join(sorted(list(set([tag.text for tag in tag_list]))))\n",
    "    print(card_id)\n",
    "    return card_type"
   ]
  },
  {
   "cell_type": "code",
   "execution_count": null,
   "metadata": {},
   "outputs": [],
   "source": [
    "res = requests.post('http://220.134.173.17/gameking/card/ocg_list.asp', data = {'form_data13': '01184620'})\n",
    "res.encoding = 'big5'\n",
    "soup = BeautifulSoup(res.text, 'html.parser')"
   ]
  },
  {
   "cell_type": "code",
   "execution_count": null,
   "metadata": {},
   "outputs": [],
   "source": []
  },
  {
   "cell_type": "code",
   "execution_count": null,
   "metadata": {},
   "outputs": [],
   "source": [
    "temp.text"
   ]
  }
 ],
 "metadata": {
  "kernelspec": {
   "display_name": "Python [conda env:tensorflow]",
   "language": "python",
   "name": "conda-env-tensorflow-py"
  },
  "language_info": {
   "codemirror_mode": {
    "name": "ipython",
    "version": 3
   },
   "file_extension": ".py",
   "mimetype": "text/x-python",
   "name": "python",
   "nbconvert_exporter": "python",
   "pygments_lexer": "ipython3",
   "version": "3.6.6"
  }
 },
 "nbformat": 4,
 "nbformat_minor": 2
}
