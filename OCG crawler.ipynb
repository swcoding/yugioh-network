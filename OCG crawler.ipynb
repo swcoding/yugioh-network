{
 "cells": [
  {
   "cell_type": "code",
   "execution_count": 83,
   "metadata": {},
   "outputs": [],
   "source": [
    "import pandas as pd\n",
    "from bs4 import BeautifulSoup\n",
    "import requests\n",
    "import time\n",
    "import os"
   ]
  },
  {
   "cell_type": "markdown",
   "metadata": {},
   "source": [
    "1. 爬取卡號、卡名、種類、及超連結\n",
    "\n",
    "2. 根據卡號超連結，爬取圖片並下載下來，以對應卡號命名。"
   ]
  },
  {
   "cell_type": "code",
   "execution_count": 116,
   "metadata": {},
   "outputs": [],
   "source": [
    "domain = 'http://220.134.173.17/gameking/card/'\n",
    "magic_dir = 'pic/magic/'\n",
    "trap_dir = 'pic/trap/'\n",
    "monster = 'pic/monster/'\n",
    "magic_card_link = \"http://220.134.173.17/gameking/card/ocg_list.asp?call_item=3&call_data=%B3q%B1`%C5]%AAk&call_sql=Select%20*%20from%20ocg%20where%20ocg_kind%20like%20%27%B3q%B1`%C5]%AAk%27%20order%20by%20ocg_no%20asc&Page=\"\n",
    "trap_card_link = \"http://220.134.173.17/gameking/card/ocg_list.asp?call_item=3&call_data=%B3q%B1`%B3%B4%A8%C0&call_sql=Select%20*%20from%20ocg%20where%20ocg_kind%20like%20%27%B3q%B1`%B3%B4%A8%C0%27%20order%20by%20ocg_no%20asc&Page=\"\n",
    "monster_card_link = \"http://220.134.173.17/gameking/card/ocg_list.asp?call_item=3&call_data=%AE%C4%AAG%A9%C7%C3~&call_sql=Select%20*%20from%20ocg%20where%20ocg_kind%20like%20%27%AE%C4%AAG%A9%C7%C3~%27%20order%20by%20ocg_no%20asc&Page=\""
   ]
  },
  {
   "cell_type": "code",
   "execution_count": 93,
   "metadata": {},
   "outputs": [
    {
     "data": {
      "text/plain": [
       "[6, 7, 8, 9]"
      ]
     },
     "execution_count": 93,
     "metadata": {},
     "output_type": "execute_result"
    }
   ],
   "source": [
    "[i for i in range(6,10)]"
   ]
  },
  {
   "cell_type": "code",
   "execution_count": 122,
   "metadata": {},
   "outputs": [
    {
     "name": "stdout",
     "output_type": "stream",
     "text": [
      "1 running\n",
      "done\n",
      "2 running\n",
      "done\n",
      "3 running\n",
      "done\n",
      "4 running\n",
      "done\n",
      "5 running\n",
      "done\n",
      "6 running\n",
      "done\n",
      "7 running\n",
      "done\n",
      "8 running\n",
      "done\n",
      "9 running\n",
      "done\n",
      "10 running\n",
      "done\n",
      "11 running\n",
      "done\n",
      "12 running\n",
      "done\n",
      "13 running\n",
      "done\n",
      "14 running\n",
      "done\n",
      "15 running\n",
      "done\n",
      "16 running\n",
      "done\n",
      "17 running\n",
      "done\n",
      "18 running\n",
      "done\n",
      "19 running\n",
      "done\n",
      "20 running\n",
      "done\n",
      "21 running\n",
      "done\n",
      "22 running\n",
      "done\n",
      "23 running\n",
      "done\n",
      "24 running\n",
      "done\n",
      "25 running\n",
      "done\n",
      "26 running\n",
      "done\n",
      "27 running\n",
      "done\n",
      "28 running\n",
      "done\n",
      "29 running\n",
      "done\n",
      "30 running\n",
      "done\n",
      "31 running\n",
      "done\n",
      "32 running\n",
      "done\n",
      "33 running\n",
      "done\n",
      "34 running\n",
      "done\n",
      "35 running\n",
      "done\n",
      "36 running\n",
      "done\n",
      "37 running\n",
      "done\n",
      "38 running\n",
      "done\n",
      "39 running\n",
      "done\n",
      "40 running\n",
      "done\n",
      "41 running\n",
      "done\n",
      "42 running\n",
      "done\n",
      "43 running\n",
      "done\n",
      "44 running\n",
      "done\n",
      "45 running\n",
      "done\n",
      "46 running\n",
      "done\n",
      "47 running\n",
      "done\n",
      "48 running\n",
      "done\n",
      "49 running\n",
      "done\n"
     ]
    }
   ],
   "source": [
    "df = pd.DataFrame()\n",
    "current_dir = monster\n",
    "current_link = monster_card_link\n",
    "start_page = 1\n",
    "end_page = 50\n",
    "\n",
    "\n",
    "for i in range(start_page,end_page):\n",
    "    print(i, 'running')\n",
    "    url = current_link + str(i)\n",
    "    response = requests.get(url)\n",
    "    response.encoding = 'big5'\n",
    "\n",
    "    # Get name&link in one page\n",
    "    soup = BeautifulSoup(response.text, 'html.parser')\n",
    "    content_tag_list = soup.find_all('td', width='05%', align='center', bgcolor='#FFFF99')\n",
    "    link_list = [l.select_one('a').get('href') for l in content_tag_list]\n",
    "    link_list = [domain + l for l in link_list]\n",
    "    name_list = soup.find_all('td',width='22%',align='center')[1:-1] # 去掉頭尾標題列\n",
    "    name_list = [l.string.strip() for l in name_list]\n",
    "    card_num_list = soup.find_all('td',width='09%',align='center')[1:-1]\n",
    "    card_num_list = [l.string.strip() for l in card_num_list]\n",
    "\n",
    "    # Get img src list\n",
    "    img_src_list = []\n",
    "    for link in link_list:\n",
    "        content_response = requests.get(link)\n",
    "        content_response.encoding = 'big5'\n",
    "        content_soup = BeautifulSoup(content_response.text, 'html.parser')\n",
    "        img_src = content_soup.find_all('img')\n",
    "        if len(img_src) == 0:\n",
    "            img_src = None\n",
    "        else:\n",
    "            img_src = content_soup.find_all('img')[0].get('src')\n",
    "        img_src_list.append(img_src)\n",
    "\n",
    "    # Download img from img_src_list\n",
    "    for i, src in enumerate(img_src_list):\n",
    "        if src is None:\n",
    "            continue\n",
    "        else:\n",
    "            src_response = requests.get(src)\n",
    "            #img_name = current_dir + src.split('/')[-1]\n",
    "            img_name = current_dir + card_num_list[i] + '.jpg'\n",
    "            if os.path.exists(img_name):\n",
    "                continue\n",
    "            else:\n",
    "                with open(img_name, 'wb') as img:\n",
    "                    img.write(src_response.content)\n",
    "    \n",
    "    tmp_df = pd.DataFrame({\n",
    "        'name':name_list,\n",
    "        'card_num':card_num_list,\n",
    "        'link':link_list,\n",
    "        'img':img_src_list\n",
    "    })\n",
    "    df.append(tmp_df)\n",
    "    time.sleep(1.5)\n",
    "    \n",
    "    print('done')\n",
    "df = df.reset_index()"
   ]
  },
  {
   "cell_type": "code",
   "execution_count": 120,
   "metadata": {},
   "outputs": [
    {
     "data": {
      "text/plain": [
       "'15AX-JPM01'"
      ]
     },
     "execution_count": 120,
     "metadata": {},
     "output_type": "execute_result"
    }
   ],
   "source": [
    "card_num_list[0].strip()"
   ]
  },
  {
   "cell_type": "code",
   "execution_count": 112,
   "metadata": {},
   "outputs": [
    {
     "data": {
      "text/plain": [
       "['http://220.134.173.17/gameking//game/0217/win/187-BLVO/187-BLVO/BLVO-JP076.JPG',\n",
       " 'http://220.134.173.17/gameking//game/0217/win/187-BLVO/187-BLVO/BLVO-JP078.JPG',\n",
       " 'http://220.134.173.17/gameking//game/0217/win/187-BLVO/187-BLVO/BLVO-JP080.JPG',\n",
       " 'http://220.134.173.17/gameking//game/0217/win/130-BOSH-JP/130-BOSH-JP/BOSH-JP070.JPG',\n",
       " 'http://220.134.173.17/gameking//game/0217/win/130-BOSH-JP/130-BOSH-JP/BOSH-JP071.JPG',\n",
       " 'http://220.134.173.17/gameking//game/0217/win/130-BOSH-JP/130-BOSH-JP/BOSH-JP072.JPG',\n",
       " 'http://220.134.173.17/gameking//game/0217/win/130-BOSH-JP/130-BOSH-JP/BOSH-JP073.JPG',\n",
       " 'http://220.134.173.17/gameking//game/0217/win/130-BOSH-JP/130-BOSH-JP/BOSH-JP075.JPG',\n",
       " 'http://220.134.173.17/gameking//game/0217/win/130-BOSH-JP/130-BOSH-JP/BOSH-JP076.JPG',\n",
       " 'http://220.134.173.17/gameking//game/0217/win/130-BOSH-JP/130-BOSH-JP/BOSH-JP076A.JPG',\n",
       " 'http://220.134.173.17/gameking//game/0217/win/130-BOSH-JP/130-BOSH-JP/BOSH-JP077.JPG',\n",
       " 'http://220.134.173.17/gameking//game/0217/win/130-BOSH-JP/130-BOSH-JP/BOSH-JP078.JPG',\n",
       " 'http://220.134.173.17/gameking//game/0217/win/130-BOSH-JP/130-BOSH-JP/BOSH-JP080.JPG',\n",
       " 'http://220.134.173.17/gameking//game/0217/vol\\\\BOOSTER\\\\BOOSTER3\\\\BR302.JPG',\n",
       " 'http://220.134.173.17/gameking//game/0217/vol\\\\BOOSTER\\\\BOOSTER3\\\\BR303.JPG']"
      ]
     },
     "execution_count": 112,
     "metadata": {},
     "output_type": "execute_result"
    }
   ],
   "source": [
    "img_src_list"
   ]
  },
  {
   "cell_type": "code",
   "execution_count": 102,
   "metadata": {},
   "outputs": [
    {
     "data": {
      "text/html": [
       "<div>\n",
       "<style scoped>\n",
       "    .dataframe tbody tr th:only-of-type {\n",
       "        vertical-align: middle;\n",
       "    }\n",
       "\n",
       "    .dataframe tbody tr th {\n",
       "        vertical-align: top;\n",
       "    }\n",
       "\n",
       "    .dataframe thead th {\n",
       "        text-align: right;\n",
       "    }\n",
       "</style>\n",
       "<table border=\"1\" class=\"dataframe\">\n",
       "  <thead>\n",
       "    <tr style=\"text-align: right;\">\n",
       "      <th></th>\n",
       "      <th>name</th>\n",
       "      <th>link</th>\n",
       "      <th>img</th>\n",
       "    </tr>\n",
       "  </thead>\n",
       "  <tbody>\n",
       "    <tr>\n",
       "      <th>0</th>\n",
       "      <td>生者之書禁斷之咒術</td>\n",
       "      <td>http://220.134.173.17/gameking/card/ocg_show.a...</td>\n",
       "      <td>http://220.134.173.17/gameking//game/0217/win/...</td>\n",
       "    </tr>\n",
       "    <tr>\n",
       "      <th>1</th>\n",
       "      <td>太陽之書</td>\n",
       "      <td>http://220.134.173.17/gameking/card/ocg_show.a...</td>\n",
       "      <td>http://220.134.173.17/gameking//game/0217/win/...</td>\n",
       "    </tr>\n",
       "    <tr>\n",
       "      <th>2</th>\n",
       "      <td>通往財寶的隱秘通路</td>\n",
       "      <td>http://220.134.173.17/gameking/card/ocg_show.a...</td>\n",
       "      <td>http://220.134.173.17/gameking//game/0217/win/...</td>\n",
       "    </tr>\n",
       "    <tr>\n",
       "      <th>3</th>\n",
       "      <td>膽小的風</td>\n",
       "      <td>http://220.134.173.17/gameking/card/ocg_show.a...</td>\n",
       "      <td>http://220.134.173.17/gameking//game/0217/win/...</td>\n",
       "    </tr>\n",
       "    <tr>\n",
       "      <th>4</th>\n",
       "      <td>武裝龍的襲雷</td>\n",
       "      <td>http://220.134.173.17/gameking/card/ocg_show.a...</td>\n",
       "      <td>http://220.134.173.17/gameking//game/0217/win/...</td>\n",
       "    </tr>\n",
       "    <tr>\n",
       "      <th>5</th>\n",
       "      <td>守寶槍精監視</td>\n",
       "      <td>http://220.134.173.17/gameking/card/ocg_show.a...</td>\n",
       "      <td>http://220.134.173.17/gameking//game/0217/win/...</td>\n",
       "    </tr>\n",
       "    <tr>\n",
       "      <th>6</th>\n",
       "      <td>守寶槍精監視</td>\n",
       "      <td>http://220.134.173.17/gameking/card/ocg_show.a...</td>\n",
       "      <td>http://220.134.173.17/gameking//game/0217/win/...</td>\n",
       "    </tr>\n",
       "    <tr>\n",
       "      <th>7</th>\n",
       "      <td>守寶槍精監視</td>\n",
       "      <td>http://220.134.173.17/gameking/card/ocg_show.a...</td>\n",
       "      <td>http://220.134.173.17/gameking//game/0217/win/...</td>\n",
       "    </tr>\n",
       "    <tr>\n",
       "      <th>8</th>\n",
       "      <td>WW之鈴音</td>\n",
       "      <td>http://220.134.173.17/gameking/card/ocg_show.a...</td>\n",
       "      <td>http://220.134.173.17/gameking//game/0217/win/...</td>\n",
       "    </tr>\n",
       "    <tr>\n",
       "      <th>9</th>\n",
       "      <td>混鍊裝融合</td>\n",
       "      <td>http://220.134.173.17/gameking/card/ocg_show.a...</td>\n",
       "      <td>http://220.134.173.17/gameking//game/0217/win/...</td>\n",
       "    </tr>\n",
       "    <tr>\n",
       "      <th>10</th>\n",
       "      <td>金滿而謙虛之壺</td>\n",
       "      <td>http://220.134.173.17/gameking/card/ocg_show.a...</td>\n",
       "      <td>http://220.134.173.17/gameking//game/0217/win/...</td>\n",
       "    </tr>\n",
       "    <tr>\n",
       "      <th>11</th>\n",
       "      <td>金滿而謙虛之壺</td>\n",
       "      <td>http://220.134.173.17/gameking/card/ocg_show.a...</td>\n",
       "      <td>http://220.134.173.17/gameking//game/0217/win/...</td>\n",
       "    </tr>\n",
       "    <tr>\n",
       "      <th>12</th>\n",
       "      <td>金滿而謙虛之壺</td>\n",
       "      <td>http://220.134.173.17/gameking/card/ocg_show.a...</td>\n",
       "      <td>http://220.134.173.17/gameking//game/0217/win/...</td>\n",
       "    </tr>\n",
       "    <tr>\n",
       "      <th>13</th>\n",
       "      <td>娛樂樂團颶風</td>\n",
       "      <td>http://220.134.173.17/gameking/card/ocg_show.a...</td>\n",
       "      <td>http://220.134.173.17/gameking//game/0217/win/...</td>\n",
       "    </tr>\n",
       "    <tr>\n",
       "      <th>14</th>\n",
       "      <td>擺動風暴</td>\n",
       "      <td>http://220.134.173.17/gameking/card/ocg_show.a...</td>\n",
       "      <td>http://220.134.173.17/gameking//game/0217/win/...</td>\n",
       "    </tr>\n",
       "  </tbody>\n",
       "</table>\n",
       "</div>"
      ],
      "text/plain": [
       "          name                                               link  \\\n",
       "0   生者之書禁斷之咒術　  http://220.134.173.17/gameking/card/ocg_show.a...   \n",
       "1        太陽之書　  http://220.134.173.17/gameking/card/ocg_show.a...   \n",
       "2   通往財寶的隱秘通路　  http://220.134.173.17/gameking/card/ocg_show.a...   \n",
       "3        膽小的風　  http://220.134.173.17/gameking/card/ocg_show.a...   \n",
       "4      武裝龍的襲雷　  http://220.134.173.17/gameking/card/ocg_show.a...   \n",
       "5      守寶槍精監視　  http://220.134.173.17/gameking/card/ocg_show.a...   \n",
       "6      守寶槍精監視　  http://220.134.173.17/gameking/card/ocg_show.a...   \n",
       "7      守寶槍精監視　  http://220.134.173.17/gameking/card/ocg_show.a...   \n",
       "8       WW之鈴音　  http://220.134.173.17/gameking/card/ocg_show.a...   \n",
       "9       混鍊裝融合　  http://220.134.173.17/gameking/card/ocg_show.a...   \n",
       "10    金滿而謙虛之壺　  http://220.134.173.17/gameking/card/ocg_show.a...   \n",
       "11    金滿而謙虛之壺　  http://220.134.173.17/gameking/card/ocg_show.a...   \n",
       "12    金滿而謙虛之壺　  http://220.134.173.17/gameking/card/ocg_show.a...   \n",
       "13     娛樂樂團颶風　  http://220.134.173.17/gameking/card/ocg_show.a...   \n",
       "14       擺動風暴　  http://220.134.173.17/gameking/card/ocg_show.a...   \n",
       "\n",
       "                                                  img  \n",
       "0   http://220.134.173.17/gameking//game/0217/win/...  \n",
       "1   http://220.134.173.17/gameking//game/0217/win/...  \n",
       "2   http://220.134.173.17/gameking//game/0217/win/...  \n",
       "3   http://220.134.173.17/gameking//game/0217/win/...  \n",
       "4   http://220.134.173.17/gameking//game/0217/win/...  \n",
       "5   http://220.134.173.17/gameking//game/0217/win/...  \n",
       "6   http://220.134.173.17/gameking//game/0217/win/...  \n",
       "7   http://220.134.173.17/gameking//game/0217/win/...  \n",
       "8   http://220.134.173.17/gameking//game/0217/win/...  \n",
       "9   http://220.134.173.17/gameking//game/0217/win/...  \n",
       "10  http://220.134.173.17/gameking//game/0217/win/...  \n",
       "11  http://220.134.173.17/gameking//game/0217/win/...  \n",
       "12  http://220.134.173.17/gameking//game/0217/win/...  \n",
       "13  http://220.134.173.17/gameking//game/0217/win/...  \n",
       "14  http://220.134.173.17/gameking//game/0217/win/...  "
      ]
     },
     "execution_count": 102,
     "metadata": {},
     "output_type": "execute_result"
    }
   ],
   "source": [
    "tmp_df"
   ]
  },
  {
   "cell_type": "code",
   "execution_count": 98,
   "metadata": {},
   "outputs": [
    {
     "data": {
      "text/plain": [
       "'http://220.134.173.17/gameking//game/0217/vol\\\\BOOSTER\\\\BOOSTER1\\\\BR139.JPG'"
      ]
     },
     "execution_count": 98,
     "metadata": {},
     "output_type": "execute_result"
    }
   ],
   "source": [
    "src"
   ]
  },
  {
   "cell_type": "code",
   "execution_count": 91,
   "metadata": {},
   "outputs": [
    {
     "data": {
      "text/plain": [
       "[]"
      ]
     },
     "execution_count": 91,
     "metadata": {},
     "output_type": "execute_result"
    }
   ],
   "source": [
    "content_soup.find_all('img')"
   ]
  },
  {
   "cell_type": "code",
   "execution_count": 90,
   "metadata": {},
   "outputs": [
    {
     "data": {
      "text/plain": [
       "'http://220.134.173.17/gameking/card/ocg_show.asp?call_no=19YJ-JPO01&call_item=3'"
      ]
     },
     "execution_count": 90,
     "metadata": {},
     "output_type": "execute_result"
    }
   ],
   "source": [
    "link"
   ]
  },
  {
   "cell_type": "code",
   "execution_count": null,
   "metadata": {},
   "outputs": [],
   "source": []
  },
  {
   "cell_type": "code",
   "execution_count": 1,
   "metadata": {},
   "outputs": [],
   "source": [
    "import os"
   ]
  },
  {
   "cell_type": "code",
   "execution_count": null,
   "metadata": {},
   "outputs": [],
   "source": []
  }
 ],
 "metadata": {
  "kernelspec": {
   "display_name": "Python [conda env:tensorflow]",
   "language": "python",
   "name": "conda-env-tensorflow-py"
  },
  "language_info": {
   "codemirror_mode": {
    "name": "ipython",
    "version": 3
   },
   "file_extension": ".py",
   "mimetype": "text/x-python",
   "name": "python",
   "nbconvert_exporter": "python",
   "pygments_lexer": "ipython3",
   "version": "3.6.6"
  }
 },
 "nbformat": 4,
 "nbformat_minor": 2
}
